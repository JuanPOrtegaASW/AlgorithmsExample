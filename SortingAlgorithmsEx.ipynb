{
 "cells": [
  {
   "cell_type": "markdown",
   "id": "2808fdf9",
   "metadata": {},
   "source": [
    "# Sorting"
   ]
  },
  {
   "cell_type": "code",
   "execution_count": 1,
   "id": "b46b410f",
   "metadata": {},
   "outputs": [],
   "source": [
    "import time\n",
    "import numpy as np\n",
    "np.random.seed(0)"
   ]
  },
  {
   "cell_type": "code",
   "execution_count": 2,
   "id": "881e765c",
   "metadata": {},
   "outputs": [],
   "source": [
    "data = np.random.randint(1,10000,17000)"
   ]
  },
  {
   "cell_type": "markdown",
   "id": "7dbcaac0",
   "metadata": {},
   "source": [
    "### Insertion Sort"
   ]
  },
  {
   "cell_type": "code",
   "execution_count": 3,
   "id": "b04ff63f",
   "metadata": {},
   "outputs": [],
   "source": [
    "def insertion_sort(arr):\n",
    "    start = time.time()\n",
    "    for i in np.arange(1,len(arr)):\n",
    "        look = arr[i]\n",
    "        for j in np.arange(i-1,-1,-1):\n",
    "          if look > arr[j]:\n",
    "            break;\n",
    "          else:\n",
    "            arr[j+1] = arr[j]\n",
    "            arr[j]   = look\n",
    "    end = time.time()\n",
    "    print(\"The time of execution of above program is :\", (end-start) * 10**3, \"ms\", \"for a size of \", len(arr))\n",
    "    return arr"
   ]
  },
  {
   "cell_type": "code",
   "execution_count": 4,
   "id": "938bce08",
   "metadata": {},
   "outputs": [
    {
     "name": "stdout",
     "output_type": "stream",
     "text": [
      "The time of execution of above program is : 31712.64338493347 ms for a size of  17000\n"
     ]
    }
   ],
   "source": [
    "arr= insertion_sort(data)"
   ]
  },
  {
   "cell_type": "code",
   "execution_count": 5,
   "id": "4a6799ab",
   "metadata": {},
   "outputs": [
    {
     "data": {
      "text/plain": [
       "array([   1,    1,    1, ..., 9999, 9999, 9999])"
      ]
     },
     "execution_count": 5,
     "metadata": {},
     "output_type": "execute_result"
    }
   ],
   "source": [
    "arr"
   ]
  },
  {
   "cell_type": "markdown",
   "id": "660c72b1",
   "metadata": {},
   "source": [
    "### Merge Sort"
   ]
  },
  {
   "cell_type": "code",
   "execution_count": 6,
   "id": "49e26c66",
   "metadata": {},
   "outputs": [],
   "source": [
    "def merge(left,right):\n",
    "    new_arr = np.zeros(len(left)+len(right))\n",
    "    for i in np.arange(0,len(new_arr)):\n",
    "        if len(left) == 0:\n",
    "            new_arr[i:] = right\n",
    "            break;\n",
    "        elif len(right) == 0:\n",
    "            new_arr[i:] = left\n",
    "            break;\n",
    "        elif left[0]<right[0]:\n",
    "            new_arr[i], left = left[0], left[1:]\n",
    "        else:\n",
    "            new_arr[i], right = right[0], right[1:]\n",
    "    return new_arr"
   ]
  },
  {
   "cell_type": "code",
   "execution_count": 7,
   "id": "aed116e6",
   "metadata": {},
   "outputs": [],
   "source": [
    "#This method is just to calculate the time, if you don't need it, don't worry\n",
    "def merge_algorithm(arr):\n",
    "    start = time.time()\n",
    "    lists = []\n",
    "    new_lists =[]\n",
    "    for element in arr: #O(n) space complexity\n",
    "        lists = lists+[np.array([element])]\n",
    "    while len(lists) != 1:\n",
    "        if np.mod(len(lists),2)==0:\n",
    "            for i in np.arange(0,len(lists),2):\n",
    "                new_lists = new_lists + [merge(lists[i],lists[i+1])]\n",
    "        else:\n",
    "            for i in np.arange(0,len(lists)-1,2):\n",
    "                new_lists = new_lists + [merge(lists[i],lists[i+1])]\n",
    "            new_lists = new_lists + [lists[-1]]\n",
    "        lists = new_lists\n",
    "        new_lists = []\n",
    "    arr = np.array(lists[0])\n",
    "    end = time.time()\n",
    "    print(\"The time of execution of above program is :\", (end-start) * 10**3, \"ms\", \"for a size of \", len(arr))\n",
    "    return arr"
   ]
  },
  {
   "cell_type": "code",
   "execution_count": 8,
   "id": "49b6bf47",
   "metadata": {},
   "outputs": [
    {
     "name": "stdout",
     "output_type": "stream",
     "text": [
      "The time of execution of above program is : 0.0 ms for a size of  5\n",
      "[1. 2. 3. 5. 8.]\n"
     ]
    }
   ],
   "source": [
    "prueba = np.array([3,2,5,8,1])\n",
    "p = merge_algorithm(prueba)\n",
    "print(p)"
   ]
  },
  {
   "cell_type": "code",
   "execution_count": 9,
   "id": "b2a7dbef",
   "metadata": {},
   "outputs": [],
   "source": [
    "data = np.random.randint(1,10000,17000)"
   ]
  },
  {
   "cell_type": "code",
   "execution_count": 10,
   "id": "65df9aa5",
   "metadata": {},
   "outputs": [
    {
     "name": "stdout",
     "output_type": "stream",
     "text": [
      "The time of execution of above program is : 594.9883460998535 ms for a size of  17000\n"
     ]
    },
    {
     "data": {
      "text/plain": [
       "array([1.000e+00, 3.000e+00, 4.000e+00, ..., 9.998e+03, 9.998e+03,\n",
       "       9.998e+03])"
      ]
     },
     "execution_count": 10,
     "metadata": {},
     "output_type": "execute_result"
    }
   ],
   "source": [
    "merge_algorithm(data)"
   ]
  },
  {
   "cell_type": "markdown",
   "id": "9d4798e7",
   "metadata": {},
   "source": [
    "### Algorithm of your choice\n",
    "\n",
    "Know implement another algorithm, anyone works. Use the same size of data."
   ]
  },
  {
   "cell_type": "code",
   "execution_count": 11,
   "id": "8642b91f",
   "metadata": {},
   "outputs": [],
   "source": [
    "## School matrix multiplication\n",
    "def school_product(M1,M2):\n",
    "    M3 = np.zeros((np.shape(M1)[0],np.shape(M2)[1]))\n",
    "    for i in np.arange(0,np.shape(M1)[0]):\n",
    "        for j in np.arange(0,np.shape(M2)[1]):\n",
    "            for k in np.arange(0,np.shape(M1)[1]): #O(n^3) complexity\n",
    "                M3[i][j] += M1[i][k]*M2[k][j]\n",
    "    return M3"
   ]
  },
  {
   "cell_type": "code",
   "execution_count": 12,
   "id": "1bad74e1",
   "metadata": {},
   "outputs": [
    {
     "name": "stdout",
     "output_type": "stream",
     "text": [
      "The time of execution of above program is : 10657.840251922607 ms for a pair of matrices with size  250\n"
     ]
    }
   ],
   "source": [
    "size = 250\n",
    "M1 = np.random.rand(size,size)\n",
    "M2 = np.random.rand(size,size)\n",
    "start = time.time()\n",
    "school_product(M1,M2)\n",
    "end = time.time()\n",
    "print(\"The time of execution of above program is :\", (end-start) * 10**3, \"ms\", \"for a pair of matrices with size \", size)"
   ]
  },
  {
   "cell_type": "code",
   "execution_count": 13,
   "id": "df5ca5f4",
   "metadata": {},
   "outputs": [
    {
     "name": "stdout",
     "output_type": "stream",
     "text": [
      "The time of execution of above program is : 8.012533187866211 ms for a pair of matrices with size  250\n"
     ]
    }
   ],
   "source": [
    "start = time.time()\n",
    "np.matmul(M1,M2)\n",
    "end = time.time()\n",
    "print(\"The time of execution of above program is :\", (end-start) * 10**3, \"ms\", \"for a pair of matrices with size \", size)"
   ]
  },
  {
   "cell_type": "markdown",
   "id": "7a20750b",
   "metadata": {},
   "source": [
    "### Conclusions\n",
    "\n",
    "So, the algorithm matters! Even when the result is the same, the time it takes is important. We are in the era of Big Data, if we are not careful, some processing might take centuries!"
   ]
  }
 ],
 "metadata": {
  "kernelspec": {
   "display_name": "Python 3 (ipykernel)",
   "language": "python",
   "name": "python3"
  },
  "language_info": {
   "codemirror_mode": {
    "name": "ipython",
    "version": 3
   },
   "file_extension": ".py",
   "mimetype": "text/x-python",
   "name": "python",
   "nbconvert_exporter": "python",
   "pygments_lexer": "ipython3",
   "version": "3.10.9"
  }
 },
 "nbformat": 4,
 "nbformat_minor": 5
}
